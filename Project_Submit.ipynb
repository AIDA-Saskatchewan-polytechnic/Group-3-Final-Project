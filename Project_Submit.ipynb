{
 "cells": [
  {
   "cell_type": "code",
   "execution_count": null,
   "id": "545abf3e",
   "metadata": {},
   "outputs": [],
   "source": [
    "import pandas as pd\n",
    "import io\n",
    "import requests\n",
    "import matplotlib.pyplot as plt\n",
    "! pip install alpha-vantage"
   ]
  },
  {
   "cell_type": "code",
   "execution_count": null,
   "id": "f5003a20",
   "metadata": {},
   "outputs": [],
   "source": [
    "df_confirmed = pd.read_csv(\"https://raw.githubusercontent.com/CSSEGISandData/COVID-19/master/csse_covid_19_data/csse_covid_19_time_series/time_series_covid19_confirmed_global.csv\", header=0)\n",
    "df_confirmed"
   ]
  },
  {
   "cell_type": "code",
   "execution_count": null,
   "id": "67592e57",
   "metadata": {},
   "outputs": [],
   "source": [
    "df_deaths = pd.read_csv(\"https://raw.githubusercontent.com/CSSEGISandData/COVID-19/master/csse_covid_19_data/csse_covid_19_time_series/time_series_covid19_deaths_global.csv\", header=0)\n",
    "df_deaths"
   ]
  },
  {
   "cell_type": "code",
   "execution_count": null,
   "id": "9e462d74",
   "metadata": {},
   "outputs": [],
   "source": [
    "df_com=df_confirmed.set_index('Country/Region').join(df_deaths.set_index('Country/Region'), lsuffix='_x', rsuffix='_y')\n",
    "display(df_com)"
   ]
  },
  {
   "cell_type": "code",
   "execution_count": null,
   "id": "ddd19dbc",
   "metadata": {},
   "outputs": [],
   "source": [
    "df_confirmed.rename({'4/25/22': 'Confirmed Cases'}, axis=1, inplace=True)\n",
    "df_deaths.rename({'4/25/22': 'Deaths'}, axis=1, inplace=True)"
   ]
  },
  {
   "cell_type": "code",
   "execution_count": null,
   "id": "115fcffe",
   "metadata": {},
   "outputs": [],
   "source": [
    "db= df_com[['Lat_x', 'Long_x', 'Confirmed Cases', 'Deaths']]\n",
    "db"
   ]
  },
  {
   "cell_type": "code",
   "execution_count": null,
   "id": "dbd77fe2",
   "metadata": {},
   "outputs": [],
   "source": [
    "# checking for any null values in deaths and confirmed cases\n",
    "db.isna().sum()"
   ]
  },
  {
   "cell_type": "code",
   "execution_count": null,
   "id": "1ec6cae5",
   "metadata": {},
   "outputs": [],
   "source": [
    "#    import json\n",
    "#    key = '2TW54WN94POX4QKT'\n",
    " #   url= 'https://www.alphavantage.co/query?function=TIME_SERIES_DAILY&symbol=MSFT&apikey='+key\n",
    "  #  stock_price=requests.get(url)\n",
    "   # data_stock_price=stock_price.json()\n",
    "    #data_stock_price"
   ]
  },
  {
   "cell_type": "code",
   "execution_count": null,
   "id": "8367a395",
   "metadata": {},
   "outputs": [],
   "source": [
    "# 4. \n",
    "import json\n",
    "key = 'LH1QNQRB8AUG767R'\n",
    "url= 'https://www.alphavantage.co/query?function=TIME_SERIES_DAILY&symbol=MSFT&apikey='+key\n",
    "stock_price=requests.get(url)\n",
    "data_stock_price=stock_price.json()\n",
    "data_stock_price"
   ]
  },
  {
   "cell_type": "code",
   "execution_count": null,
   "id": "7f6d63fd",
   "metadata": {},
   "outputs": [],
   "source": [
    "import requests\n",
    "ts= TimeSeries(key='RAC69BWCN5KL47KJ',output_format='pandas')\n",
    "USA=ts.get_weekly_adjusted('PSA')\n",
    "Canada=ts.get_weekly_adjusted('TSCO.LON')"
   ]
  },
  {
   "cell_type": "code",
   "execution_count": null,
   "id": "c0ae8647",
   "metadata": {},
   "outputs": [],
   "source": [
    "df1=pd.DataFrame(USA[0])\n",
    "df2=pd.DataFrame(Canada[0])\n",
    "print(df1)\n",
    "print(df2)"
   ]
  },
  {
   "cell_type": "code",
   "execution_count": null,
   "id": "98fe04bb",
   "metadata": {},
   "outputs": [],
   "source": [
    "# high and low prices of stocks in USA by daily basis\n",
    "df_USA_stocks=df1.drop(['1. open', '4. close','5. adjusted close','6. volume','7. dividend amount'], axis=1)\n",
    "df_USA_stocks"
   ]
  },
  {
   "cell_type": "code",
   "execution_count": null,
   "id": "cfa002bf",
   "metadata": {},
   "outputs": [],
   "source": [
    "plt.plot(df_USA_stocks['2. high'])\n",
    "plt.plot(df_USA_stocks['3. low'])"
   ]
  },
  {
   "cell_type": "code",
   "execution_count": null,
   "id": "20f5eb07",
   "metadata": {},
   "outputs": [],
   "source": [
    "# high and low prices of stocks in Canada by daily basis\n",
    "df_Canada_stocks=df2.drop(['1. open', '4. close','5. adjusted close','6. volume','7. dividend amount'], axis=1)\n",
    "df_Canada_stocks"
   ]
  },
  {
   "cell_type": "code",
   "execution_count": null,
   "id": "a90f1212",
   "metadata": {},
   "outputs": [],
   "source": [
    "plt.plot(df_Canada_stocks['2. high'])\n",
    "plt.plot(df_Canada_stocks['3. low'])"
   ]
  },
  {
   "cell_type": "code",
   "execution_count": null,
   "id": "dc4da81a",
   "metadata": {},
   "outputs": [],
   "source": [
    "key = 'J03E9G54DQQKK36T'\n",
    "stock=\"AC\"\n",
    "url= 'https://www.alphavantage.co/query?function=TIME_SERIES_WEEKLY&symbol='+stock+'&apikey='+key\n",
    "stock_price=requests.get(url)\n",
    "stock_aircanada=stock_price.json()\n",
    "stock_aircanada"
   ]
  },
  {
   "cell_type": "code",
   "execution_count": null,
   "id": "dada434b",
   "metadata": {},
   "outputs": [],
   "source": [
    "df1=pd.DataFrame(data_stock_price['Weekly Time Series']).transpose()"
   ]
  },
  {
   "cell_type": "code",
   "execution_count": null,
   "id": "f7c32efa",
   "metadata": {},
   "outputs": [],
   "source": [
    "df1=df1.astype(float)\n",
    "df1[['2. high', '3. low']].plot(figsize = (10,7))\n",
    "plt.gca().invert_xaxis()\n",
    "plt.show()"
   ]
  }
 ],
 "metadata": {
  "kernelspec": {
   "display_name": "Python 3 (ipykernel)",
   "language": "python",
   "name": "python3"
  },
  "language_info": {
   "codemirror_mode": {
    "name": "ipython",
    "version": 3
   },
   "file_extension": ".py",
   "mimetype": "text/x-python",
   "name": "python",
   "nbconvert_exporter": "python",
   "pygments_lexer": "ipython3",
   "version": "3.9.7"
  }
 },
 "nbformat": 4,
 "nbformat_minor": 5
}
